{
 "cells": [
  {
   "cell_type": "code",
   "execution_count": 1,
   "metadata": {},
   "outputs": [],
   "source": [
    "import nrrd\n",
    "from matplotlib import pyplot as plt\n",
    "import numpy as np\n",
    "import SimpleITK as sitk\n",
    "from PIL import Image\n",
    "import glob\n",
    "import pydicom\n",
    "import os\n",
    "import cv2\n",
    "\n",
    "from fastai.vision.all import *\n",
    "from fastai.medical.imaging import*\n",
    "\n"
   ]
  },
  {
   "cell_type": "code",
   "execution_count": 2,
   "metadata": {},
   "outputs": [],
   "source": [
    "folders = glob.glob('test/**/*')"
   ]
  },
  {
   "cell_type": "code",
   "execution_count": 3,
   "metadata": {},
   "outputs": [
    {
     "data": {
      "text/plain": [
       "98"
      ]
     },
     "execution_count": 3,
     "metadata": {},
     "output_type": "execute_result"
    }
   ],
   "source": [
    "len(folders)"
   ]
  },
  {
   "cell_type": "code",
   "execution_count": 4,
   "metadata": {},
   "outputs": [],
   "source": [
    "def file_plane(IOP):\n",
    "    IOP_round = [round(x) for x in IOP]\n",
    "    plane = np.cross(IOP_round[0:3], IOP_round[3:6])\n",
    "    plane = [abs(x) for x in plane]\n",
    "    if plane[0] == 1:\n",
    "        return \"Sagittal\"\n",
    "    elif plane[1] == 1:\n",
    "        return \"Coronal\"\n",
    "    elif plane[2] == 1:\n",
    "        return \"Transverse\""
   ]
  },
  {
   "cell_type": "code",
   "execution_count": null,
   "metadata": {},
   "outputs": [],
   "source": [
    "for folder in folders:\n",
    "    se_arr = sitk.ReadImage(folder)\n",
    "    se_arr= sitk.GetArrayFromImage(se_arr)\n",
    "    fold = folder.split('\\\\')[1]\n",
    "    m = glob.glob(f'prostatex/prostatex/{fold}/**/**/*.dcm')\n",
    "    os.makedirs(f'prostate-X/images/{fold}/', exist_ok=True)\n",
    "    os.makedirs(f'prostate-X/masks/{fold}/', exist_ok=True)\n",
    "    n=[]\n",
    "    counter=0\n",
    "    for i,mm in enumerate(m):\n",
    "        \n",
    "        f = pydicom.read_file(mm)\n",
    "        img_arr = sitk.ReadImage(mm)\n",
    "        img_arr= sitk.GetArrayFromImage(img_arr)[0]\n",
    "        if img_arr.shape == se_arr[0].shape:\n",
    "            if file_plane(f.ImageOrientationPatient) =='Transverse':\n",
    "                if len(n)==len(se_arr):\n",
    "                    break\n",
    "                \n",
    "                img = tensor(img_arr)\n",
    "                brks = img.freqhist_bins(n_bins=7000);\n",
    "                data_scaled = img.hist_scaled(brks)\n",
    "                se_arr[len(se_arr)-counter -1 ] = np.array(se_arr[len(se_arr)-counter -1 ]==2, dtype=int)\n",
    "                cv2.imwrite(f'prostate-X/images/{fold}/{i:02d}.png', data_scaled.numpy()*255)\n",
    "                cv2.imwrite(f'prostate-X/masks/{fold}/{i:02d}.png', se_arr[len(se_arr)-counter -1 ])\n",
    "                counter+=1"
   ]
  },
  {
   "cell_type": "code",
   "execution_count": null,
   "metadata": {},
   "outputs": [],
   "source": []
  }
 ],
 "metadata": {
  "kernelspec": {
   "display_name": "Python 3",
   "language": "python",
   "name": "python3"
  },
  "language_info": {
   "codemirror_mode": {
    "name": "ipython",
    "version": 3
   },
   "file_extension": ".py",
   "mimetype": "text/x-python",
   "name": "python",
   "nbconvert_exporter": "python",
   "pygments_lexer": "ipython3",
   "version": "3.7.7"
  }
 },
 "nbformat": 4,
 "nbformat_minor": 4
}
