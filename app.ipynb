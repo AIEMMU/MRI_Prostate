{
 "cells": [
  {
   "cell_type": "code",
   "execution_count": 1,
   "metadata": {},
   "outputs": [],
   "source": [
    "from fastai.vision.all import *\n",
    "from fastai.vision.widgets import *\n",
    "import numpy as np\n",
    "from skimage.morphology import binary_erosion\n",
    "import time\n",
    "import cv2"
   ]
  },
  {
   "cell_type": "code",
   "execution_count": 4,
   "metadata": {},
   "outputs": [],
   "source": [
    "def get_y():\n",
    "    return 1"
   ]
  },
  {
   "cell_type": "code",
   "execution_count": 5,
   "metadata": {
    "scrolled": true
   },
   "outputs": [],
   "source": [
    "def get_learner(cpu=False):\n",
    "    fname='export.pkl'\n",
    "    url='https://www.dropbox.com/s/a2rwhy29wx9s448/export_orig.pkl?dl=1'\n",
    "    # download_url and file_extract are functions from fastai2\n",
    "    download_url(url,fname)\n",
    "    learn = load_learner(fname, cpu=cpu)\n",
    "    os.remove(fname)\n",
    "    return learn"
   ]
  },
  {
   "cell_type": "code",
   "execution_count": 6,
   "metadata": {},
   "outputs": [],
   "source": [
    "def plottingWithRedLabel (x,y):\n",
    "    #Normalising the x data to 0 to 255 \n",
    "    x=np.array((x-x.min())/(x.max()-x.min())*255,'uint8')\n",
    "    #Creating the border of the segmentation\n",
    "    yEroded=binary_erosion(y,np.ones((5,5)))\n",
    "    yBorder=np.logical_xor(y,yEroded)\n",
    "    #Clip the red channel value\n",
    "    xy=np.clip(x+yBorder*255,0,255)\n",
    "    return np.stack([x,xy,x], axis=-1)"
   ]
  },
  {
   "cell_type": "code",
   "execution_count": 7,
   "metadata": {},
   "outputs": [
    {
     "data": {
      "text/html": [],
      "text/plain": [
       "<IPython.core.display.HTML object>"
      ]
     },
     "metadata": {},
     "output_type": "display_data"
    }
   ],
   "source": [
    "learn = get_learner(cpu=True)"
   ]
  },
  {
   "cell_type": "code",
   "execution_count": 8,
   "metadata": {},
   "outputs": [],
   "source": [
    "btn_upload = widgets.FileUpload()\n",
    "out_pl = widgets.Output()\n",
    "lbl_pred = widgets.Label()"
   ]
  },
  {
   "cell_type": "code",
   "execution_count": 9,
   "metadata": {},
   "outputs": [],
   "source": [
    "def on_click(change):\n",
    "    img = PILImage.create(btn_upload.data[-1])\n",
    "    out_pl.clear_output()\n",
    "    with out_pl: display(img)\n",
    "    start = time.time()\n",
    "    p = learn.predict(img)  \n",
    "    mask = cv2.resize(p[1].float().numpy().astype(np.float32), img.shape[:2])\n",
    "    sugg_contour = plottingWithRedLabel(np.array(img.convert('L')),mask)\n",
    "    end = time.time()-start\n",
    "    lbl_pred.value = f'Suggested Contour took {end:01f} seconds to generate'\n",
    "    with out_pl: display(Image.fromarray(sugg_contour.astype(np.uint8)))"
   ]
  },
  {
   "cell_type": "code",
   "execution_count": 10,
   "metadata": {},
   "outputs": [],
   "source": [
    "btn_upload.observe(on_click, names=['data'])"
   ]
  },
  {
   "cell_type": "code",
   "execution_count": 11,
   "metadata": {},
   "outputs": [
    {
     "data": {
      "application/vnd.jupyter.widget-view+json": {
       "model_id": "6fbc239fc7984772a273a8655b8c0c16",
       "version_major": 2,
       "version_minor": 0
      },
      "text/plain": [
       "VBox(children=(Label(value='Upload a prostate Image:'), FileUpload(value={}, description='Upload'), Output(), …"
      ]
     },
     "metadata": {},
     "output_type": "display_data"
    },
    {
     "data": {
      "text/html": [],
      "text/plain": [
       "<IPython.core.display.HTML object>"
      ]
     },
     "metadata": {},
     "output_type": "display_data"
    }
   ],
   "source": [
    "display(VBox([widgets.Label('Upload a prostate Image:'), btn_upload, out_pl, lbl_pred]))"
   ]
  },
  {
   "cell_type": "code",
   "execution_count": null,
   "metadata": {},
   "outputs": [],
   "source": []
  }
 ],
 "metadata": {
  "kernelspec": {
   "display_name": "Python 3",
   "language": "python",
   "name": "python3"
  },
  "language_info": {
   "codemirror_mode": {
    "name": "ipython",
    "version": 3
   },
   "file_extension": ".py",
   "mimetype": "text/x-python",
   "name": "python",
   "nbconvert_exporter": "python",
   "pygments_lexer": "ipython3",
   "version": "3.7.9"
  }
 },
 "nbformat": 4,
 "nbformat_minor": 2
}
