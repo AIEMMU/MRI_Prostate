{
 "cells": [
  {
   "cell_type": "code",
   "execution_count": null,
   "metadata": {},
   "outputs": [],
   "source": [
    "from fastai.vision.all import *\n",
    "from fastai.vision.widgets import *\n",
    "import fastai"
    "print(fastai.__version__)
   ]
  }
  
  
 },
 "nbformat": 4,
 "nbformat_minor": 2
}
