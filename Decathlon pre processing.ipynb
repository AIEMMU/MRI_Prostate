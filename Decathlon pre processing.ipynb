{
 "cells": [
  {
   "cell_type": "code",
   "execution_count": 5,
   "metadata": {},
   "outputs": [],
   "source": [
    "from fastai.vision.all import *\n",
    "from fastai.medical.imaging import *\n",
    "from matplotlib import pyplot as plt\n",
    "import nrrd\n",
    "import numpy as np\n",
    "import os, os.path\n",
    "import nibabel as nib\n",
    "import glob\n",
    "import cv2"
   ]
  },
  {
   "cell_type": "code",
   "execution_count": 6,
   "metadata": {},
   "outputs": [],
   "source": [
    "img_paths = glob.glob('imagesTr/*.gz')\n",
    "mask_paths = glob.glob('labelsTR/*.gz')"
   ]
  },
  {
   "cell_type": "code",
   "execution_count": 7,
   "metadata": {},
   "outputs": [
    {
     "name": "stdout",
     "output_type": "stream",
     "text": [
      "torch.Size([15, 320, 320])\n",
      "torch.Size([20, 320, 320])\n",
      "torch.Size([24, 320, 320])\n",
      "torch.Size([15, 320, 320])\n",
      "torch.Size([20, 320, 320])\n",
      "torch.Size([20, 320, 320])\n",
      "torch.Size([20, 320, 320])\n",
      "torch.Size([20, 320, 320])\n",
      "torch.Size([20, 320, 320])\n",
      "torch.Size([20, 320, 320])\n",
      "torch.Size([20, 320, 320])\n",
      "torch.Size([18, 256, 256])\n",
      "torch.Size([20, 320, 320])\n",
      "torch.Size([20, 320, 320])\n",
      "torch.Size([20, 320, 320])\n",
      "torch.Size([19, 320, 320])\n",
      "torch.Size([11, 384, 384])\n",
      "torch.Size([15, 320, 320])\n",
      "torch.Size([20, 320, 320])\n",
      "torch.Size([20, 320, 320])\n",
      "torch.Size([15, 320, 320])\n",
      "torch.Size([20, 320, 320])\n",
      "torch.Size([15, 256, 256])\n",
      "torch.Size([20, 320, 320])\n",
      "torch.Size([15, 320, 320])\n",
      "torch.Size([20, 320, 320])\n",
      "torch.Size([18, 256, 256])\n",
      "torch.Size([22, 320, 320])\n",
      "torch.Size([20, 320, 320])\n",
      "torch.Size([20, 320, 320])\n",
      "torch.Size([20, 320, 320])\n",
      "torch.Size([20, 320, 320])\n"
     ]
    }
   ],
   "source": [
    "for img,msk in zip(img_paths, mask_paths):\n",
    "    imgs = nib.load(img)\n",
    "    msks = nib.load(msk)\n",
    "    data = imgs.get_fdata()\n",
    "    labels = msks.get_fdata()\n",
    "    fold = img.split('\\\\')[-1].split('.')[0]\n",
    "    os.makedirs(f'decathlon/images/{fold}/', exist_ok=True)\n",
    "    os.makedirs(f'decathlon/masks/{fold}/', exist_ok=True)\n",
    "    \n",
    "    a = tensor(np.array(data[:,:,:,0]))\n",
    "    a = np.moveaxis(np.array(a),2,0)\n",
    "    a = tensor(a)\n",
    "    print(a.shape)\n",
    "    img = tensor(a[0].T)\n",
    "    imgs = tensor(a)\n",
    "    brks = img.freqhist_bins(n_bins=3500);\n",
    "    imgs = imgs.hist_scaled(brks)\n",
    "    \n",
    "    for i in range(data.shape[2]):\n",
    "        x = np.rot90(imgs[i].T, k=2)\n",
    "        y = np.rot90(labels[:,:,i].T,k=2)\n",
    "        ret,y = cv2.threshold(y,0,1,cv2.THRESH_BINARY)\n",
    "        cv2.imwrite(f'decathlon/images/{fold}/{i:02d}.png', x*255)\n",
    "        cv2.imwrite(f'decathlon/masks/{fold}/{i:02d}.png', y)"
   ]
  },
  {
   "cell_type": "code",
   "execution_count": null,
   "metadata": {},
   "outputs": [],
   "source": []
  }
 ],
 "metadata": {
  "kernelspec": {
   "display_name": "Python 3",
   "language": "python",
   "name": "python3"
  },
  "language_info": {
   "codemirror_mode": {
    "name": "ipython",
    "version": 3
   },
   "file_extension": ".py",
   "mimetype": "text/x-python",
   "name": "python",
   "nbconvert_exporter": "python",
   "pygments_lexer": "ipython3",
   "version": "3.7.7"
  }
 },
 "nbformat": 4,
 "nbformat_minor": 4
}
