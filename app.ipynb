{
 "cells": [
  {
   "cell_type": "code",
   "execution_count": 1,
   "metadata": {},
   "outputs": [
    {
     "name": "stdout",
     "output_type": "stream",
     "text": [
      "Collecting voila\n",
      "  Downloading voila-0.2.2-py3-none-any.whl (6.9 MB)\n",
      "\u001b[K     |████████████████████████████████| 6.9 MB 2.3 MB/s eta 0:00:01\n",
      "\u001b[?25hRequirement already satisfied: jupyter-client<7,>=6.1.3 in /home/david/anaconda3/envs/fastai4/lib/python3.7/site-packages (from voila) (6.1.6)\n",
      "Collecting nbconvert<7,>=6.0.0\n",
      "  Downloading nbconvert-6.0.3-py3-none-any.whl (505 kB)\n",
      "\u001b[K     |████████████████████████████████| 505 kB 6.9 MB/s eta 0:00:01\n",
      "\u001b[?25hCollecting nbclient<0.6,>=0.4.0\n",
      "  Downloading nbclient-0.5.0-py3-none-any.whl (65 kB)\n",
      "\u001b[K     |████████████████████████████████| 65 kB 4.1 MB/s eta 0:00:011\n",
      "\u001b[?25hCollecting jupyter-server<0.4.0,>=0.3.0\n",
      "  Downloading jupyter_server-0.3.0-py3-none-any.whl (150 kB)\n",
      "\u001b[K     |████████████████████████████████| 150 kB 7.4 MB/s eta 0:00:01\n",
      "\u001b[?25hRequirement already satisfied: tornado>=4.1 in /home/david/anaconda3/envs/fastai4/lib/python3.7/site-packages (from jupyter-client<7,>=6.1.3->voila) (6.0.4)\n",
      "Requirement already satisfied: traitlets in /home/david/anaconda3/envs/fastai4/lib/python3.7/site-packages (from jupyter-client<7,>=6.1.3->voila) (4.3.3)\n",
      "Requirement already satisfied: pyzmq>=13 in /home/david/anaconda3/envs/fastai4/lib/python3.7/site-packages (from jupyter-client<7,>=6.1.3->voila) (19.0.1)\n",
      "Requirement already satisfied: python-dateutil>=2.1 in /home/david/anaconda3/envs/fastai4/lib/python3.7/site-packages (from jupyter-client<7,>=6.1.3->voila) (2.8.1)\n",
      "Requirement already satisfied: jupyter-core>=4.6.0 in /home/david/anaconda3/envs/fastai4/lib/python3.7/site-packages (from jupyter-client<7,>=6.1.3->voila) (4.6.3)\n",
      "Requirement already satisfied: bleach in /home/david/anaconda3/envs/fastai4/lib/python3.7/site-packages (from nbconvert<7,>=6.0.0->voila) (3.1.5)\n",
      "Requirement already satisfied: pandocfilters>=1.4.1 in /home/david/anaconda3/envs/fastai4/lib/python3.7/site-packages (from nbconvert<7,>=6.0.0->voila) (1.4.2)\n",
      "Requirement already satisfied: nbformat>=4.4 in /home/david/anaconda3/envs/fastai4/lib/python3.7/site-packages (from nbconvert<7,>=6.0.0->voila) (5.0.7)\n",
      "Requirement already satisfied: mistune<2,>=0.8.1 in /home/david/anaconda3/envs/fastai4/lib/python3.7/site-packages (from nbconvert<7,>=6.0.0->voila) (0.8.4)\n",
      "Requirement already satisfied: entrypoints>=0.2.2 in /home/david/anaconda3/envs/fastai4/lib/python3.7/site-packages (from nbconvert<7,>=6.0.0->voila) (0.3)\n",
      "Requirement already satisfied: defusedxml in /home/david/anaconda3/envs/fastai4/lib/python3.7/site-packages (from nbconvert<7,>=6.0.0->voila) (0.6.0)\n",
      "Requirement already satisfied: testpath in /home/david/anaconda3/envs/fastai4/lib/python3.7/site-packages (from nbconvert<7,>=6.0.0->voila) (0.4.4)\n",
      "Collecting jupyterlab-pygments\n",
      "  Downloading jupyterlab_pygments-0.1.1-py2.py3-none-any.whl (4.6 kB)\n",
      "Requirement already satisfied: pygments>=2.4.1 in /home/david/anaconda3/envs/fastai4/lib/python3.7/site-packages (from nbconvert<7,>=6.0.0->voila) (2.7.0)\n",
      "Requirement already satisfied: jinja2>=2.4 in /home/david/anaconda3/envs/fastai4/lib/python3.7/site-packages (from nbconvert<7,>=6.0.0->voila) (2.11.2)\n",
      "Collecting nest-asyncio\n",
      "  Downloading nest_asyncio-1.4.0-py3-none-any.whl (5.2 kB)\n",
      "Collecting async-generator\n",
      "  Using cached async_generator-1.10-py3-none-any.whl (18 kB)\n",
      "Requirement already satisfied: ipython-genutils in /home/david/anaconda3/envs/fastai4/lib/python3.7/site-packages (from jupyter-server<0.4.0,>=0.3.0->voila) (0.2.0)\n",
      "Requirement already satisfied: terminado>=0.8.3 in /home/david/anaconda3/envs/fastai4/lib/python3.7/site-packages (from jupyter-server<0.4.0,>=0.3.0->voila) (0.8.3)\n",
      "Requirement already satisfied: Send2Trash in /home/david/anaconda3/envs/fastai4/lib/python3.7/site-packages (from jupyter-server<0.4.0,>=0.3.0->voila) (1.5.0)\n",
      "Requirement already satisfied: prometheus-client in /home/david/anaconda3/envs/fastai4/lib/python3.7/site-packages (from jupyter-server<0.4.0,>=0.3.0->voila) (0.8.0)\n",
      "Requirement already satisfied: ipykernel in /home/david/anaconda3/envs/fastai4/lib/python3.7/site-packages (from jupyter-server<0.4.0,>=0.3.0->voila) (5.3.4)\n",
      "Requirement already satisfied: six in /home/david/anaconda3/envs/fastai4/lib/python3.7/site-packages (from traitlets->jupyter-client<7,>=6.1.3->voila) (1.15.0)\n",
      "Requirement already satisfied: decorator in /home/david/anaconda3/envs/fastai4/lib/python3.7/site-packages (from traitlets->jupyter-client<7,>=6.1.3->voila) (4.4.2)\n",
      "Requirement already satisfied: packaging in /home/david/anaconda3/envs/fastai4/lib/python3.7/site-packages (from bleach->nbconvert<7,>=6.0.0->voila) (20.4)\n",
      "Requirement already satisfied: webencodings in /home/david/anaconda3/envs/fastai4/lib/python3.7/site-packages (from bleach->nbconvert<7,>=6.0.0->voila) (0.5.1)\n",
      "Requirement already satisfied: jsonschema!=2.5.0,>=2.4 in /home/david/anaconda3/envs/fastai4/lib/python3.7/site-packages (from nbformat>=4.4->nbconvert<7,>=6.0.0->voila) (3.0.2)\n",
      "Requirement already satisfied: MarkupSafe>=0.23 in /home/david/anaconda3/envs/fastai4/lib/python3.7/site-packages (from jinja2>=2.4->nbconvert<7,>=6.0.0->voila) (1.1.1)\n",
      "Requirement already satisfied: ipython>=5.0.0 in /home/david/anaconda3/envs/fastai4/lib/python3.7/site-packages (from ipykernel->jupyter-server<0.4.0,>=0.3.0->voila) (7.18.1)\n",
      "Requirement already satisfied: pyparsing>=2.0.2 in /home/david/anaconda3/envs/fastai4/lib/python3.7/site-packages (from packaging->bleach->nbconvert<7,>=6.0.0->voila) (2.4.7)\n",
      "Requirement already satisfied: setuptools in /home/david/anaconda3/envs/fastai4/lib/python3.7/site-packages (from jsonschema!=2.5.0,>=2.4->nbformat>=4.4->nbconvert<7,>=6.0.0->voila) (49.6.0.post20200814)\n",
      "Requirement already satisfied: attrs>=17.4.0 in /home/david/anaconda3/envs/fastai4/lib/python3.7/site-packages (from jsonschema!=2.5.0,>=2.4->nbformat>=4.4->nbconvert<7,>=6.0.0->voila) (20.1.0)\n",
      "Requirement already satisfied: pyrsistent>=0.14.0 in /home/david/anaconda3/envs/fastai4/lib/python3.7/site-packages (from jsonschema!=2.5.0,>=2.4->nbformat>=4.4->nbconvert<7,>=6.0.0->voila) (0.16.0)\n",
      "Requirement already satisfied: pickleshare in /home/david/anaconda3/envs/fastai4/lib/python3.7/site-packages (from ipython>=5.0.0->ipykernel->jupyter-server<0.4.0,>=0.3.0->voila) (0.7.5)\n",
      "Requirement already satisfied: prompt-toolkit!=3.0.0,!=3.0.1,<3.1.0,>=2.0.0 in /home/david/anaconda3/envs/fastai4/lib/python3.7/site-packages (from ipython>=5.0.0->ipykernel->jupyter-server<0.4.0,>=0.3.0->voila) (3.0.7)\n",
      "Requirement already satisfied: pexpect>4.3; sys_platform != \"win32\" in /home/david/anaconda3/envs/fastai4/lib/python3.7/site-packages (from ipython>=5.0.0->ipykernel->jupyter-server<0.4.0,>=0.3.0->voila) (4.8.0)\n",
      "Requirement already satisfied: jedi>=0.10 in /home/david/anaconda3/envs/fastai4/lib/python3.7/site-packages (from ipython>=5.0.0->ipykernel->jupyter-server<0.4.0,>=0.3.0->voila) (0.17.2)\n",
      "Requirement already satisfied: backcall in /home/david/anaconda3/envs/fastai4/lib/python3.7/site-packages (from ipython>=5.0.0->ipykernel->jupyter-server<0.4.0,>=0.3.0->voila) (0.2.0)\n",
      "Requirement already satisfied: wcwidth in /home/david/anaconda3/envs/fastai4/lib/python3.7/site-packages (from prompt-toolkit!=3.0.0,!=3.0.1,<3.1.0,>=2.0.0->ipython>=5.0.0->ipykernel->jupyter-server<0.4.0,>=0.3.0->voila) (0.2.5)\n",
      "Requirement already satisfied: ptyprocess>=0.5 in /home/david/anaconda3/envs/fastai4/lib/python3.7/site-packages (from pexpect>4.3; sys_platform != \"win32\"->ipython>=5.0.0->ipykernel->jupyter-server<0.4.0,>=0.3.0->voila) (0.6.0)\n",
      "Requirement already satisfied: parso<0.8.0,>=0.7.0 in /home/david/anaconda3/envs/fastai4/lib/python3.7/site-packages (from jedi>=0.10->ipython>=5.0.0->ipykernel->jupyter-server<0.4.0,>=0.3.0->voila) (0.7.0)\n",
      "Installing collected packages: jupyterlab-pygments, nest-asyncio, async-generator, nbclient, nbconvert, jupyter-server, voila\n",
      "  Attempting uninstall: nbconvert\n",
      "    Found existing installation: nbconvert 5.6.1\n",
      "    Uninstalling nbconvert-5.6.1:\n",
      "      Successfully uninstalled nbconvert-5.6.1\n",
      "Successfully installed async-generator-1.10 jupyter-server-0.3.0 jupyterlab-pygments-0.1.1 nbclient-0.5.0 nbconvert-6.0.3 nest-asyncio-1.4.0 voila-0.2.2\n",
      "Enabling: voila\n",
      "- Writing config: /home/david/.jupyter\n",
      "    - Validating...\n",
      "      voila 0.2.2 \u001b[32mOK\u001b[0m\n",
      "Enabling: —sys-prefix\n",
      "- Writing config: /home/david/.jupyter\n",
      "    - Validating...\n",
      "Error loading server extension —sys-prefix\n",
      "     \u001b[31m X\u001b[0m is —sys-prefix importable?\n"
     ]
    }
   ],
   "source": [
    "!pip install voila\n",
    "!jupyter serverextension enable voila —sys-prefix"
   ]
  },
  {
   "cell_type": "code",
   "execution_count": 2,
   "metadata": {},
   "outputs": [],
   "source": [
    "from fastai.vision.all import *\n",
    "from fastai.vision.widgets import *\n",
    "import numpy as np\n",
    "from skimage.morphology import binary_erosion\n",
    "import time\n",
    "import cv2"
   ]
  },
  {
   "cell_type": "code",
   "execution_count": 3,
   "metadata": {},
   "outputs": [],
   "source": [
    "def get_y():\n",
    "    return 1"
   ]
  },
  {
   "cell_type": "code",
   "execution_count": 4,
   "metadata": {
    "scrolled": true
   },
   "outputs": [],
   "source": [
    "def get_learner(cpu=False):\n",
    "    fname='export.pkl'\n",
    "    url='https://www.dropbox.com/s/a2rwhy29wx9s448/export_orig.pkl?dl=1'\n",
    "    # download_url and file_extract are functions from fastai2\n",
    "    download_url(url,fname)\n",
    "    learn = load_learner(fname, cpu=cpu)\n",
    "    os.remove(fname)\n",
    "    return learn"
   ]
  },
  {
   "cell_type": "code",
   "execution_count": 5,
   "metadata": {},
   "outputs": [],
   "source": [
    "def plottingWithRedLabel (x,y):\n",
    "    #Normalising the x data to 0 to 255 \n",
    "    x=np.array((x-x.min())/(x.max()-x.min())*255,'uint8')\n",
    "    #Creating the border of the segmentation\n",
    "    yEroded=binary_erosion(y,np.ones((5,5)))\n",
    "    yBorder=np.logical_xor(y,yEroded)\n",
    "    #Clip the red channel value\n",
    "    xy=np.clip(x+yBorder*255,0,255)\n",
    "    return np.stack([x,xy,x], axis=-1)"
   ]
  },
  {
   "cell_type": "code",
   "execution_count": null,
   "metadata": {},
   "outputs": [
    {
     "data": {
      "text/html": [
       "\n",
       "    <div>\n",
       "        <style>\n",
       "            /* Turns off some styling */\n",
       "            progress {\n",
       "                /* gets rid of default border in Firefox and Opera. */\n",
       "                border: none;\n",
       "                /* Needs to be in here for Safari polyfill so background images work as expected. */\n",
       "                background-size: auto;\n",
       "            }\n",
       "            .progress-bar-interrupted, .progress-bar-interrupted::-webkit-progress-bar {\n",
       "                background: #F44336;\n",
       "            }\n",
       "        </style>\n",
       "      <progress value='128974848' class='' max='191032196' style='width:300px; height:20px; vertical-align: middle;'></progress>\n",
       "      67.51% [128974848/191032196 00:16<00:07]\n",
       "    </div>\n",
       "    "
      ],
      "text/plain": [
       "<IPython.core.display.HTML object>"
      ]
     },
     "metadata": {},
     "output_type": "display_data"
    }
   ],
   "source": [
    "learn = get_learner(cpu=True)"
   ]
  },
  {
   "cell_type": "code",
   "execution_count": null,
   "metadata": {},
   "outputs": [],
   "source": [
    "btn_upload = widgets.FileUpload()\n",
    "out_pl = widgets.Output()\n",
    "lbl_pred = widgets.Label()"
   ]
  },
  {
   "cell_type": "code",
   "execution_count": null,
   "metadata": {},
   "outputs": [],
   "source": [
    "def on_click(change):\n",
    "    img = PILImage.create(btn_upload.data[-1])\n",
    "    out_pl.clear_output()\n",
    "    with out_pl: display(img)\n",
    "    start = time.time()\n",
    "    p = learn.predict(img)  \n",
    "    mask = cv2.resize(p[1].float().numpy().astype(np.float32), img.shape[:2])\n",
    "    sugg_contour = plottingWithRedLabel(np.array(img.convert('L')),mask)\n",
    "    end = time.time()-start\n",
    "    lbl_pred.value = f'Suggested Contour took {end:01f} seconds to generate'\n",
    "    with out_pl: display(Image.fromarray(sugg_contour.astype(np.uint8)))"
   ]
  },
  {
   "cell_type": "code",
   "execution_count": null,
   "metadata": {},
   "outputs": [],
   "source": [
    "btn_upload.observe(on_click, names=['data'])"
   ]
  },
  {
   "cell_type": "code",
   "execution_count": null,
   "metadata": {},
   "outputs": [],
   "source": [
    "display(VBox([widgets.Label('Upload a prostate Image:'), btn_upload, out_pl, lbl_pred]))"
   ]
  },
  {
   "cell_type": "code",
   "execution_count": null,
   "metadata": {},
   "outputs": [],
   "source": []
  }
 ],
 "metadata": {
  "kernelspec": {
   "display_name": "Python 3",
   "language": "python",
   "name": "python3"
  },
  "language_info": {
   "codemirror_mode": {
    "name": "ipython",
    "version": 3
   },
   "file_extension": ".py",
   "mimetype": "text/x-python",
   "name": "python",
   "nbconvert_exporter": "python",
   "pygments_lexer": "ipython3",
   "version": "3.7.9"
  }
 },
 "nbformat": 4,
 "nbformat_minor": 2
}
